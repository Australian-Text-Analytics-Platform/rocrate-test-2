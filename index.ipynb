{
 "cells": [
  {
   "cell_type": "markdown",
   "id": "14143784",
   "metadata": {},
   "source": [
    "# test\n",
    "\n",
    "Current version: [v0.0.0](https://github.com/Australian-Text-Analytics-Platform/rocrate-test-2/releases/tag/v0.0.0)\n",
    "\n",
    "try docker For more information see the [test](https://glam-workbench.net/test/) section of the GLAM Workbench.\n",
    "\n",
    "## Notebook topics\n",
    "\n",
    "* [Notebook title](notebook.ipynb) – this notebook does things\n",
    "\n",
    "See the [GLAM Workbench for more details](https://glam-workbench.github.io/test/).\n"
   ]
  },
  {
   "cell_type": "markdown",
   "id": "93cbb0da",
   "metadata": {},
   "source": [
    "## Cite as\n",
    "\n",
    "See the GLAM Workbench or [Zenodo](https://doi.org/10.5281/zenodo.3521724) for up-to-date citation details.\n",
    "\n",
    "----\n",
    "\n",
    "This repository is part of the [GLAM Workbench](https://glam-workbench.github.io/).  \n"
   ]
  }
 ],
 "metadata": {
  "jupytext": {
   "cell_metadata_filter": "-all"
  },
  "kernelspec": {
   "display_name": "Python 3 (ipykernel)",
   "language": "python",
   "name": "python3"
  }
 },
 "nbformat": 4,
 "nbformat_minor": 5
}
